{
 "cells": [
  {
   "cell_type": "markdown",
   "metadata": {},
   "source": [
    "# Business Scenario:\n",
    "Daily data from New York Stock Exchange is given for the years 1970 to 2010 for a few companies. Also their\n",
    "dividends data for these years is given in another file. A couple of lists or reports are to be generated from this\n",
    "data as specified.\n",
    "\n",
    "## ProblemStatement:\n",
    "with the given files available on HDFS, using SparkSQL the following reports/lists need to be generated.\n",
    "\n",
    "## 1)List the companies which have the stock close price more than or equal to 200 and stock volume more than or equal to 10 million.\n",
    "## 2)List the companies that have given dividends more than 50 times. The list shouldinclude the number of times they have given dividends.\n",
    "## 3)List the companies along with their close price, dividends and the date when they gave dividends of more than 0.01 when their daily close price was more than or equal to 100sorted by dividendsin ascending order.\n",
    "## 4)Save the above lists as comma separated files.\n",
    "## 5)Generate a JSON file containing the list of companies for the year 2009 with the numberof dividends and date when they gave, indicating 0 if they have not given dividends on certain dates and clubbing all the prices i.e. open, high, low,close and adjusted close into a nested tuplenamed price_details.Show two of the above lists:\n",
    "### a.One sorted by dividends in descending order and\n",
    "### b.Another sorted by dividends in ascending order."
   ]
  },
  {
   "cell_type": "markdown",
   "metadata": {},
   "source": [
    "## Importing Lib's"
   ]
  },
  {
   "cell_type": "code",
   "execution_count": 293,
   "metadata": {},
   "outputs": [],
   "source": [
    "import pandas as pd\n",
    "from pyspark.sql import SparkSession\n",
    "from pyspark.context import SparkContext\n",
    "from pyspark.sql import functions as F\n",
    "from pyspark.sql.types import * \n",
    "from datetime import date, timedelta, datetime\n",
    "import time"
   ]
  },
  {
   "cell_type": "markdown",
   "metadata": {},
   "source": [
    "## Initializing SparkSession"
   ]
  },
  {
   "cell_type": "code",
   "execution_count": 294,
   "metadata": {},
   "outputs": [],
   "source": [
    "sc = SparkSession.builder.appName(\"PysparkAssignment\")\\\n",
    ".config (\"spark.sql.shuffle.partitions\", \"50\")\\\n",
    ".config(\"spark.driver.maxResultSize\",\"5g\")\\\n",
    ".config (\"spark.sql.execution.arrow.enabled\", \"true\")\\\n",
    ".getOrCreate()\n",
    "from pyspark.sql import SQLContext\n",
    "sqlContext = SQLContext(sc)"
   ]
  },
  {
   "cell_type": "markdown",
   "metadata": {},
   "source": [
    "## Creating Data Frames"
   ]
  },
  {
   "cell_type": "markdown",
   "metadata": {},
   "source": [
    "1. First File = \"NYSE_dividends.tsv\"\n",
    "2. Second File = \"NYSE_daily.tsv\"\n",
    "3. **Data Dictionory for above files**"
   ]
  },
  {
   "cell_type": "markdown",
   "metadata": {},
   "source": [
    "**NYSE_DAILY**    \n",
    "1. exchange      \n",
    "2. stock symbol\n",
    "3. date\n",
    "4. open price\n",
    "5. high price\n",
    "6. low price\n",
    "7. close price\n",
    "8. volume\n",
    "9. adjusted close_price"
   ]
  },
  {
   "cell_type": "markdown",
   "metadata": {},
   "source": [
    "**NYSE_dividends.tsv**\n",
    "1. exchange\n",
    "2. stock symbol\n",
    "3. date\n",
    "4. dividends"
   ]
  },
  {
   "cell_type": "code",
   "execution_count": 295,
   "metadata": {},
   "outputs": [],
   "source": [
    "NYSE_df = sc.read.csv(\"NYSE_daily.tsv\", sep=r'\\t', header=False)"
   ]
  },
  {
   "cell_type": "code",
   "execution_count": 296,
   "metadata": {},
   "outputs": [
    {
     "data": {
      "text/plain": [
       "<bound method DataFrame.printSchema of DataFrame[_c0: string, _c1: string, _c2: string, _c3: string, _c4: string, _c5: string, _c6: string, _c7: string, _c8: string]>"
      ]
     },
     "execution_count": 296,
     "metadata": {},
     "output_type": "execute_result"
    }
   ],
   "source": [
    "NYSE_df.printSchema"
   ]
  },
  {
   "cell_type": "code",
   "execution_count": 297,
   "metadata": {},
   "outputs": [
    {
     "name": "stdout",
     "output_type": "stream",
     "text": [
      "+----+---+--------+-----+-----+-----+-----+-------+-----+\n",
      "| _c0|_c1|     _c2|  _c3|  _c4|  _c5|  _c6|    _c7|  _c8|\n",
      "+----+---+--------+-----+-----+-----+-----+-------+-----+\n",
      "|NYSE|JEF|2/8/2010| 25.4|25.49|24.78|24.82|1134300|24.82|\n",
      "|NYSE|JEF|2/5/2010|24.91|25.19|24.08|25.01|1765200|25.01|\n",
      "|NYSE|JEF|2/4/2010|26.01| 26.2|24.85|24.85|1414400|24.85|\n",
      "+----+---+--------+-----+-----+-----+-----+-------+-----+\n",
      "only showing top 3 rows\n",
      "\n"
     ]
    }
   ],
   "source": [
    "NYSE_df.show(3)"
   ]
  },
  {
   "cell_type": "code",
   "execution_count": 298,
   "metadata": {},
   "outputs": [],
   "source": [
    "NYSE_diviends = sc.read.csv(\"NYSE_dividends.tsv\", sep=r'\\t', header=False)"
   ]
  },
  {
   "cell_type": "code",
   "execution_count": 299,
   "metadata": {},
   "outputs": [
    {
     "data": {
      "text/plain": [
       "<bound method DataFrame.printSchema of DataFrame[_c0: string, _c1: string, _c2: string, _c3: string]>"
      ]
     },
     "execution_count": 299,
     "metadata": {},
     "output_type": "execute_result"
    }
   ],
   "source": [
    "NYSE_diviends.printSchema"
   ]
  },
  {
   "cell_type": "code",
   "execution_count": 300,
   "metadata": {},
   "outputs": [
    {
     "name": "stdout",
     "output_type": "stream",
     "text": [
      "+----+---+----------+-----+\n",
      "| _c0|_c1|       _c2|  _c3|\n",
      "+----+---+----------+-----+\n",
      "|NYSE|JAH|12/30/2009|0.075|\n",
      "|NYSE|JAH| 9/29/2009|0.075|\n",
      "|NYSE|JGT|12/11/2009|0.377|\n",
      "+----+---+----------+-----+\n",
      "only showing top 3 rows\n",
      "\n"
     ]
    }
   ],
   "source": [
    "NYSE_diviends.show(3)"
   ]
  },
  {
   "cell_type": "markdown",
   "metadata": {},
   "source": [
    "**Renaming Columns Names**\n",
    "1. NYSE Dataset"
   ]
  },
  {
   "cell_type": "code",
   "execution_count": 301,
   "metadata": {},
   "outputs": [],
   "source": [
    "NYSE =NYSE_df.withColumnRenamed(\"_c0\",\"Exchange\").withColumnRenamed(\"_c1\",\"Stock_symbol\").withColumnRenamed(\"_c2\",\"Date\").withColumnRenamed(\"_c3\",\"Open_price\").withColumnRenamed(\"_c4\",\"High_price\").withColumnRenamed(\"_c5\",\"Low_price\").withColumnRenamed(\"_c6\",\"Close\").withColumnRenamed(\"_c7\",\"Volume\").withColumnRenamed(\"_c8\",\"Adjusted_close_price\")"
   ]
  },
  {
   "cell_type": "code",
   "execution_count": 302,
   "metadata": {},
   "outputs": [
    {
     "data": {
      "text/plain": [
       "DataFrame[Exchange: string, Stock_symbol: string, Date: string, Open_price: string, High_price: string, Low_price: string, Close: string, Volume: string, Adjusted_close_price: string]"
      ]
     },
     "execution_count": 302,
     "metadata": {},
     "output_type": "execute_result"
    }
   ],
   "source": [
    "NYSE"
   ]
  },
  {
   "cell_type": "code",
   "execution_count": 303,
   "metadata": {},
   "outputs": [
    {
     "name": "stdout",
     "output_type": "stream",
     "text": [
      "+--------+------------+--------+----------+----------+---------+-----+-------+--------------------+\n",
      "|Exchange|Stock_symbol|    Date|Open_price|High_price|Low_price|Close| Volume|Adjusted_close_price|\n",
      "+--------+------------+--------+----------+----------+---------+-----+-------+--------------------+\n",
      "|    NYSE|         JEF|2/8/2010|      25.4|     25.49|    24.78|24.82|1134300|               24.82|\n",
      "|    NYSE|         JEF|2/5/2010|     24.91|     25.19|    24.08|25.01|1765200|               25.01|\n",
      "|    NYSE|         JEF|2/4/2010|     26.01|      26.2|    24.85|24.85|1414400|               24.85|\n",
      "+--------+------------+--------+----------+----------+---------+-----+-------+--------------------+\n",
      "only showing top 3 rows\n",
      "\n"
     ]
    }
   ],
   "source": [
    "NYSE.show(3)"
   ]
  },
  {
   "cell_type": "markdown",
   "metadata": {},
   "source": [
    "2. NYSE Divdends Dataset"
   ]
  },
  {
   "cell_type": "code",
   "execution_count": 304,
   "metadata": {},
   "outputs": [],
   "source": [
    "NYSE_div =NYSE_diviends.withColumnRenamed(\"_c0\",\"Exchange\").withColumnRenamed(\"_c1\",\"Stock_symbol\").withColumnRenamed(\"_c2\",\"Date\").withColumnRenamed(\"_c3\",\"Dividends\")"
   ]
  },
  {
   "cell_type": "code",
   "execution_count": 305,
   "metadata": {},
   "outputs": [
    {
     "data": {
      "text/plain": [
       "DataFrame[Exchange: string, Stock_symbol: string, Date: string, Dividends: string]"
      ]
     },
     "execution_count": 305,
     "metadata": {},
     "output_type": "execute_result"
    }
   ],
   "source": [
    "NYSE_div"
   ]
  },
  {
   "cell_type": "code",
   "execution_count": 306,
   "metadata": {},
   "outputs": [
    {
     "name": "stdout",
     "output_type": "stream",
     "text": [
      "+--------+------------+----------+---------+\n",
      "|Exchange|Stock_symbol|      Date|Dividends|\n",
      "+--------+------------+----------+---------+\n",
      "|    NYSE|         JAH|12/30/2009|    0.075|\n",
      "|    NYSE|         JAH| 9/29/2009|    0.075|\n",
      "|    NYSE|         JGT|12/11/2009|    0.377|\n",
      "+--------+------------+----------+---------+\n",
      "only showing top 3 rows\n",
      "\n"
     ]
    }
   ],
   "source": [
    "NYSE_div.show(3)"
   ]
  },
  {
   "cell_type": "markdown",
   "metadata": {},
   "source": [
    "**Chaning Data types for computing**"
   ]
  },
  {
   "cell_type": "code",
   "execution_count": 307,
   "metadata": {},
   "outputs": [],
   "source": [
    "NYSE = NYSE.withColumn('Open_price', F.col('Open_price').cast(DoubleType()))\n",
    "NYSE = NYSE.withColumn('High_price', F.col('High_price').cast(DoubleType()))\n",
    "NYSE = NYSE.withColumn('Low_price', F.col('Low_price').cast(DoubleType()))\n",
    "NYSE = NYSE.withColumn('Close', F.col('Close').cast(DoubleType()))\n",
    "NYSE = NYSE.withColumn('Volume', F.col('Volume').cast(IntegerType()))\n",
    "NYSE = NYSE.withColumn('Adjusted_close_price', F.col('Adjusted_close_price').cast(DoubleType()))"
   ]
  },
  {
   "cell_type": "code",
   "execution_count": 308,
   "metadata": {},
   "outputs": [
    {
     "name": "stdout",
     "output_type": "stream",
     "text": [
      "+--------+------------+--------+----------+----------+---------+-----+-------+--------------------+\n",
      "|Exchange|Stock_symbol|    Date|Open_price|High_price|Low_price|Close| Volume|Adjusted_close_price|\n",
      "+--------+------------+--------+----------+----------+---------+-----+-------+--------------------+\n",
      "|    NYSE|         JEF|2/8/2010|      25.4|     25.49|    24.78|24.82|1134300|               24.82|\n",
      "|    NYSE|         JEF|2/5/2010|     24.91|     25.19|    24.08|25.01|1765200|               25.01|\n",
      "|    NYSE|         JEF|2/4/2010|     26.01|      26.2|    24.85|24.85|1414400|               24.85|\n",
      "+--------+------------+--------+----------+----------+---------+-----+-------+--------------------+\n",
      "only showing top 3 rows\n",
      "\n"
     ]
    }
   ],
   "source": [
    "NYSE.show(3)"
   ]
  },
  {
   "cell_type": "code",
   "execution_count": 309,
   "metadata": {},
   "outputs": [],
   "source": [
    "NYSE_div = NYSE_div.withColumn('Dividends', F.col('Dividends').cast(DoubleType()))"
   ]
  },
  {
   "cell_type": "code",
   "execution_count": 310,
   "metadata": {},
   "outputs": [
    {
     "name": "stdout",
     "output_type": "stream",
     "text": [
      "+--------+------------+----------+---------+\n",
      "|Exchange|Stock_symbol|      Date|Dividends|\n",
      "+--------+------------+----------+---------+\n",
      "|    NYSE|         JAH|12/30/2009|    0.075|\n",
      "|    NYSE|         JAH| 9/29/2009|    0.075|\n",
      "|    NYSE|         JGT|12/11/2009|    0.377|\n",
      "|    NYSE|         JGT| 9/11/2009|    0.377|\n",
      "|    NYSE|         JGT| 6/11/2009|    0.377|\n",
      "|    NYSE|         JGT| 3/11/2009|    0.377|\n",
      "|    NYSE|         JGT|12/11/2008|    0.377|\n",
      "|    NYSE|         JGT| 9/11/2008|    0.451|\n",
      "|    NYSE|         JGT| 6/11/2008|    0.451|\n",
      "|    NYSE|         JGT| 3/12/2008|    0.451|\n",
      "+--------+------------+----------+---------+\n",
      "only showing top 10 rows\n",
      "\n"
     ]
    }
   ],
   "source": [
    "NYSE_div.show(10)"
   ]
  },
  {
   "cell_type": "markdown",
   "metadata": {},
   "source": [
    "## Problem Statement:"
   ]
  },
  {
   "cell_type": "markdown",
   "metadata": {},
   "source": [
    "## 1) List the companies which have the stock close price more than or equal to 200 and stock volume more than or equal to 10 million."
   ]
  },
  {
   "cell_type": "code",
   "execution_count": 311,
   "metadata": {},
   "outputs": [
    {
     "name": "stdout",
     "output_type": "stream",
     "text": [
      "+--------+------------+----------+----------+----------+---------+------+--------+--------------------+\n",
      "|Exchange|Stock_symbol|      Date|Open_price|High_price|Low_price| Close|  Volume|Adjusted_close_price|\n",
      "+--------+------------+----------+----------+----------+---------+------+--------+--------------------+\n",
      "|    NYSE|        JNPR| 11/7/2000|    217.56|     218.5|    208.5|210.69| 9590000|              210.69|\n",
      "|    NYSE|        JNPR| 11/6/2000|    216.63|    221.75|   209.31|218.81| 9084400|              218.81|\n",
      "|    NYSE|        JNPR| 11/3/2000|     198.0|    216.88|   196.25|216.13|13424800|              216.13|\n",
      "|    NYSE|        JNPR|10/24/2000|     224.5|    228.75|    215.0|218.13| 9032300|              218.13|\n",
      "|    NYSE|        JNPR|10/23/2000|    233.25|    236.75|   221.69|224.88| 8265500|              224.88|\n",
      "|    NYSE|        JNPR|10/20/2000|    229.75|     239.5|    227.5| 232.0| 9223400|               232.0|\n",
      "|    NYSE|        JNPR|10/19/2000|    229.13|    234.31|    220.0|232.58|11323800|              232.58|\n",
      "|    NYSE|        JNPR|10/18/2000|    219.38|     235.0|    212.5|213.88|15463100|              213.88|\n",
      "|    NYSE|        JNPR|10/17/2000|    241.75|    241.81|    224.0|229.19|16734200|              229.19|\n",
      "|    NYSE|        JNPR|10/16/2000|    226.75|     244.5|    224.0| 243.0|17288400|               243.0|\n",
      "|    NYSE|        JNPR|10/13/2000|    201.75|     229.5|   201.63| 228.5|19565000|               228.5|\n",
      "|    NYSE|        JNPR|10/11/2000|     201.5|    219.44|   196.19| 206.0|16487000|               206.0|\n",
      "|    NYSE|        JNPR|10/10/2000|     196.5|     211.0|    196.0|205.94|12586900|              205.94|\n",
      "|    NYSE|        JNPR| 10/4/2000|    200.75|    211.63|    191.5|207.95|11819100|              207.95|\n",
      "|    NYSE|        JNPR| 10/3/2000|    212.63|     215.0|    198.0|201.44|13457300|              201.44|\n",
      "|    NYSE|        JNPR| 10/2/2000|    221.94|     224.0|    201.5|206.13|10621700|              206.13|\n",
      "|    NYSE|        JNPR| 9/29/2000|    230.25|     234.5|    218.5|218.94| 7640300|              218.94|\n",
      "|    NYSE|        JNPR| 9/28/2000|     218.0|     231.5|   217.94| 228.0| 9803400|               228.0|\n",
      "|    NYSE|        JNPR| 9/27/2000|     237.0|     237.0|   218.25| 225.0| 8255800|               225.0|\n",
      "|    NYSE|        JNPR| 9/26/2000|    231.25|     234.0|   224.81| 230.5| 7673100|               230.5|\n",
      "+--------+------------+----------+----------+----------+---------+------+--------+--------------------+\n",
      "only showing top 20 rows\n",
      "\n"
     ]
    }
   ],
   "source": [
    "NYSE.filter((NYSE.Close>=200) & (NYSE.Volume >=1000000)).show()"
   ]
  },
  {
   "cell_type": "markdown",
   "metadata": {},
   "source": [
    "## 2) List the companies that have given dividends more than 50 times. The list should include the number of times they have given dividends."
   ]
  },
  {
   "cell_type": "code",
   "execution_count": 312,
   "metadata": {},
   "outputs": [
    {
     "name": "stdout",
     "output_type": "stream",
     "text": [
      "+------------+---------------+\n",
      "|Stock_symbol|Dividends_Count|\n",
      "+------------+---------------+\n",
      "|         JCI|             97|\n",
      "|         JFP|             58|\n",
      "|         JTP|             91|\n",
      "|         JCP|            114|\n",
      "|         JOE|             51|\n",
      "|         JFR|             68|\n",
      "|         JHI|             99|\n",
      "|         JEF|             72|\n",
      "|         JQC|             55|\n",
      "|         JHP|             85|\n",
      "|         JPM|            104|\n",
      "|         JNJ|            160|\n",
      "|         JWN|             81|\n",
      "|         JHS|             88|\n",
      "|         JPS|             89|\n",
      "|         JPC|             60|\n",
      "|         JRO|             63|\n",
      "+------------+---------------+\n",
      "\n"
     ]
    }
   ],
   "source": [
    "NYSE_div.registerTempTable('NYSE_temp')\n",
    "sql_query = sqlContext.sql('select Stock_symbol, count(Dividends * 50) as Dividends_Count from NYSE_temp group by Stock_symbol having Dividends_count > 50')\n",
    "sql_query.show()"
   ]
  },
  {
   "cell_type": "markdown",
   "metadata": {},
   "source": [
    "## 3)List the companies along with their close price, dividends and the date when they gave dividends of more than 0.01 when their daily close price was more than or equal to 100 sorted by dividends in ascending order."
   ]
  },
  {
   "cell_type": "code",
   "execution_count": 334,
   "metadata": {},
   "outputs": [
    {
     "data": {
      "text/html": [
       "<div>\n",
       "<style scoped>\n",
       "    .dataframe tbody tr th:only-of-type {\n",
       "        vertical-align: middle;\n",
       "    }\n",
       "\n",
       "    .dataframe tbody tr th {\n",
       "        vertical-align: top;\n",
       "    }\n",
       "\n",
       "    .dataframe thead th {\n",
       "        text-align: right;\n",
       "    }\n",
       "</style>\n",
       "<table border=\"1\" class=\"dataframe\">\n",
       "  <thead>\n",
       "    <tr style=\"text-align: right;\">\n",
       "      <th></th>\n",
       "      <th>Stock_symbol</th>\n",
       "      <th>Date</th>\n",
       "      <th>Close</th>\n",
       "      <th>Dividends</th>\n",
       "    </tr>\n",
       "  </thead>\n",
       "  <tbody>\n",
       "    <tr>\n",
       "      <th>0</th>\n",
       "      <td>JNJ</td>\n",
       "      <td>8/17/1987</td>\n",
       "      <td>101.62</td>\n",
       "      <td>0.02625</td>\n",
       "    </tr>\n",
       "    <tr>\n",
       "      <th>1</th>\n",
       "      <td>JNJ</td>\n",
       "      <td>2/11/1992</td>\n",
       "      <td>104.37</td>\n",
       "      <td>0.05000</td>\n",
       "    </tr>\n",
       "    <tr>\n",
       "      <th>2</th>\n",
       "      <td>JCI</td>\n",
       "      <td>12/10/2003</td>\n",
       "      <td>109.55</td>\n",
       "      <td>0.07500</td>\n",
       "    </tr>\n",
       "    <tr>\n",
       "      <th>3</th>\n",
       "      <td>JCI</td>\n",
       "      <td>9/12/2007</td>\n",
       "      <td>107.34</td>\n",
       "      <td>0.11000</td>\n",
       "    </tr>\n",
       "    <tr>\n",
       "      <th>4</th>\n",
       "      <td>JCI</td>\n",
       "      <td>6/13/2007</td>\n",
       "      <td>110.87</td>\n",
       "      <td>0.11000</td>\n",
       "    </tr>\n",
       "  </tbody>\n",
       "</table>\n",
       "</div>"
      ],
      "text/plain": [
       "  Stock_symbol        Date   Close  Dividends\n",
       "0          JNJ   8/17/1987  101.62    0.02625\n",
       "1          JNJ   2/11/1992  104.37    0.05000\n",
       "2          JCI  12/10/2003  109.55    0.07500\n",
       "3          JCI   9/12/2007  107.34    0.11000\n",
       "4          JCI   6/13/2007  110.87    0.11000"
      ]
     },
     "execution_count": 334,
     "metadata": {},
     "output_type": "execute_result"
    }
   ],
   "source": [
    "df_join = NYSE.join(NYSE_div,on=[\"Stock_symbol\",\"Date\"],how=\"inner\")\n",
    "result = df_join.filter(\"Dividends > .01 and Close >=100\").select(\"Stock_symbol\",\"Date\",\"Close\",\"Dividends\").orderBy(\"Dividends\", asc=True)\n",
    "result_df = result.toPandas()\n",
    "result_df.head()"
   ]
  },
  {
   "cell_type": "markdown",
   "metadata": {},
   "source": [
    "## 4) Save the above lists as comma separated files."
   ]
  },
  {
   "cell_type": "code",
   "execution_count": 335,
   "metadata": {},
   "outputs": [],
   "source": [
    "result_df.to_csv(\"Results.csv\", header =True, sep = ',')"
   ]
  },
  {
   "cell_type": "markdown",
   "metadata": {},
   "source": [
    "## 5) Generate a JSON file containing the list of companies for the year 2009 with the number of dividends and date when they gave, indicating 0 if they have not given dividends on certain dates and clubbing all the prices i.e. open, high, low, close and adjusted close into a nested tuple named price_details. Show two of the above lists: \n",
    "### a. One sorted by dividends in descending order and\n",
    "### b. Another sorted by dividends in ascending order."
   ]
  },
  {
   "cell_type": "markdown",
   "metadata": {},
   "source": [
    "**Changing Date String type to Date DateType**"
   ]
  },
  {
   "cell_type": "code",
   "execution_count": 340,
   "metadata": {},
   "outputs": [
    {
     "name": "stdout",
     "output_type": "stream",
     "text": [
      "+------------+----------+---------+------------------+----------+\n",
      "|Stock_symbol|      Date|Dividends|     Price_Details|Div_status|\n",
      "+------------+----------+---------+------------------+----------+\n",
      "|         JKH| 3/25/2009|    0.003|            208.75| 3/25/2009|\n",
      "|         JKK| 9/23/2009|    0.008|            254.86| 9/23/2009|\n",
      "|         JMP| 5/20/2009|     0.01|28.810000000000002| 5/20/2009|\n",
      "|         JMP| 3/18/2009|     0.01|              17.1| 3/18/2009|\n",
      "|         JMP| 8/19/2009|     0.01|41.489999999999995| 8/19/2009|\n",
      "|         JMP|11/18/2009|     0.01|              38.9|11/18/2009|\n",
      "|         JFP|12/11/2009|    0.015|              9.18|12/11/2009|\n",
      "|         JKK| 6/23/2009|    0.016|210.29000000000002| 6/23/2009|\n",
      "|         JRN| 2/20/2009|     0.02|4.7299999999999995| 2/20/2009|\n",
      "|         JFP| 9/11/2009|    0.022|             11.41| 9/11/2009|\n",
      "|         JFP|11/10/2009|    0.022|              9.29|11/10/2009|\n",
      "|         JFP|10/13/2009|    0.022|11.870000000000001|10/13/2009|\n",
      "|         JFP| 8/12/2009|    0.029|             11.97| 8/12/2009|\n",
      "|         JFP| 7/13/2009|    0.029|             11.73| 7/13/2009|\n",
      "|         JKK|12/24/2009|    0.032|            261.56|12/24/2009|\n",
      "|         JFP| 4/13/2009|    0.035|              9.77| 4/13/2009|\n",
      "|         JFP| 6/11/2009|    0.035|             13.34| 6/11/2009|\n",
      "|         JFP| 5/13/2009|    0.035|             10.57| 5/13/2009|\n",
      "|         JKH| 9/23/2009|    0.035|            285.28| 9/23/2009|\n",
      "|         JEQ|12/18/2009|    0.038|20.729999999999997|12/18/2009|\n",
      "+------------+----------+---------+------------------+----------+\n",
      "only showing top 20 rows\n",
      "\n"
     ]
    }
   ],
   "source": [
    "NYSE_div.registerTempTable('NYSE_temp')\n",
    "NYSE.registerTempTable('NYSE_Demo')\n",
    "\n",
    "sql_queryA = sqlContext.sql(\"Select a.Stock_symbol,a.Date,b.Dividends,(a.Open_price + a.Close + a.High_price + a.Adjusted_close_price) as Price_Details, case when b.Date is null then 0 else b.Date end as Div_status from NYSE_demo as a inner join NYSE_temp as b on (a.Stock_symbol = b.Stock_symbol AND a.Date = b.Date) where right(a.Date,4)= '2009' order by b.Dividends asc\")\n",
    "sql_queryA.show()\n",
    "sql_queryA.toPandas().to_json(r\"ResultA.json\")"
   ]
  },
  {
   "cell_type": "code",
   "execution_count": 339,
   "metadata": {},
   "outputs": [
    {
     "name": "stdout",
     "output_type": "stream",
     "text": [
      "+------------+----------+---------+------------------+----------+\n",
      "|Stock_symbol|      Date|Dividends|     Price_Details|Div_status|\n",
      "+------------+----------+---------+------------------+----------+\n",
      "|         JXI| 6/22/2009|    1.113|            165.54| 6/22/2009|\n",
      "|         JBI| 8/12/2009|    0.984|             99.98| 8/12/2009|\n",
      "|         JBI| 2/11/2009|    0.984|             96.56| 2/11/2009|\n",
      "|         JBR| 8/27/2009|    0.875|             76.72| 8/27/2009|\n",
      "|         JZK|11/10/2009|    0.875| 65.30000000000001|11/10/2009|\n",
      "|         JZV|11/10/2009|    0.875|             81.13|11/10/2009|\n",
      "|         JZV| 5/12/2009|    0.875|             57.33| 5/12/2009|\n",
      "|         JZK| 5/12/2009|    0.875|             52.07| 5/12/2009|\n",
      "|         JBN| 2/25/2009|    0.875|             46.18| 2/25/2009|\n",
      "|         JBR| 2/25/2009|    0.875|              45.9| 2/25/2009|\n",
      "|         JBN| 8/27/2009|    0.875| 85.32999999999998| 8/27/2009|\n",
      "|         JZJ| 5/12/2009|    0.797|             89.95| 5/12/2009|\n",
      "|         JZJ|11/10/2009|    0.797|             96.56|11/10/2009|\n",
      "|         JBK| 8/12/2009|    0.793|              72.1| 8/12/2009|\n",
      "|         JBK| 2/11/2009|    0.793|             55.52| 2/11/2009|\n",
      "|         JBO| 8/12/2009|    0.788|             81.96| 8/12/2009|\n",
      "|         JBO| 2/11/2009|    0.788|57.160000000000004| 2/11/2009|\n",
      "|         JZL| 2/11/2009|    0.781| 84.60999999999999| 2/11/2009|\n",
      "|         JBJ| 7/10/2009|    0.781|             72.11| 7/10/2009|\n",
      "|         JZL| 8/12/2009|    0.781|             91.15| 8/12/2009|\n",
      "+------------+----------+---------+------------------+----------+\n",
      "only showing top 20 rows\n",
      "\n"
     ]
    }
   ],
   "source": [
    "NYSE_div.registerTempTable('NYSE_temp')\n",
    "NYSE.registerTempTable('NYSE_Demo')\n",
    "\n",
    "sql_queryB = sqlContext.sql(\"Select a.Stock_symbol,a.Date,b.Dividends,(a.Open_price + a.Close + a.High_price + a.Adjusted_close_price) as Price_Details, case when b.Date is null then 0 else b.Date end as Div_status from NYSE_demo as a inner join NYSE_temp as b on (a.Stock_symbol = b.Stock_symbol AND a.Date = b.Date) where right(a.Date,4)= '2009' order by b.Dividends desc\")\n",
    "sql_queryB.show()\n",
    "sql_queryB.toPandas().to_json(r\"ResultB.json\")"
   ]
  },
  {
   "cell_type": "code",
   "execution_count": null,
   "metadata": {},
   "outputs": [],
   "source": []
  }
 ],
 "metadata": {
  "kernelspec": {
   "display_name": "Python 3",
   "language": "python",
   "name": "python3"
  },
  "language_info": {
   "codemirror_mode": {
    "name": "ipython",
    "version": 3
   },
   "file_extension": ".py",
   "mimetype": "text/x-python",
   "name": "python",
   "nbconvert_exporter": "python",
   "pygments_lexer": "ipython3",
   "version": "3.8.3"
  }
 },
 "nbformat": 4,
 "nbformat_minor": 4
}
